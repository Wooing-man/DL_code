{
 "cells": [
  {
   "cell_type": "markdown",
   "id": "a4076315",
   "metadata": {},
   "source": [
    "### 라이브러리"
   ]
  },
  {
   "cell_type": "code",
   "execution_count": 1,
   "id": "4a822c97",
   "metadata": {},
   "outputs": [],
   "source": [
    "import sys, os\n",
    "import numpy as np\n",
    "import pandas as pd\n",
    "import matplotlib.pyplot as plt\n",
    "from sklearn.datasets import fetch_openml"
   ]
  },
  {
   "cell_type": "markdown",
   "id": "e04cc574",
   "metadata": {},
   "source": [
    "### 함수 정의"
   ]
  },
  {
   "cell_type": "code",
   "execution_count": 2,
   "id": "54f619f6",
   "metadata": {},
   "outputs": [],
   "source": [
    "# 활성화함수 식 자체 정의\n",
    "\n",
    "def sigmoid(x):\n",
    "    return 1 / (1+np.exp(-x))\n",
    "\n",
    "def softmax(x):\n",
    "    if x.ndim == 2: # 배치일 때\n",
    "        x = x.T\n",
    "        x = x - np.max(x, axis=0) # 오버플로 방지\n",
    "        y = np.exp(x)/ np.sum(np.exp(x), axis=0)\n",
    "        return y.T\n",
    "    \n",
    "    x = x - np.max(x)\n",
    "    return np.exp(x) / np.sum(np.exp(x), axis=0)\n",
    "\n",
    "\n",
    "# 활성화함수 정의\n",
    "\n",
    "class Sigmoid:\n",
    "    def __init__(self):\n",
    "        self.out = None\n",
    "        \n",
    "    def forward(self, x):\n",
    "        self.out = sigmoid(x)\n",
    "        return self.out\n",
    "    \n",
    "    def backward(self, dout):\n",
    "        dx = dout * (1.0 - self.out) * self.out\n",
    "        return dx\n",
    "\n",
    "class Relu:\n",
    "    def __init__(self):\n",
    "        self.mask = None\n",
    "    \n",
    "    def forward(self, x):\n",
    "        # relu 활성화 함수 특징\n",
    "        self.mask = (x <= 0)\n",
    "        out = x.copy()\n",
    "        out[self.mask] = 0\n",
    "        return out\n",
    "        \n",
    "    def backward(self, dout):\n",
    "        dout[self.mask] = 0\n",
    "        dx = dout\n",
    "        return dx"
   ]
  },
  {
   "cell_type": "code",
   "execution_count": 3,
   "id": "f8cb381d",
   "metadata": {},
   "outputs": [],
   "source": [
    "# 손실함수 정의\n",
    "\n",
    "def mean_squared_error(y, y_hat):\n",
    "    return 0.5 * np.sum((y-y_hat)**2)\n",
    "\n",
    "def cross_entropy_error(y, y_hat):\n",
    "    if y.ndim == 1: # 벡터일 때\n",
    "        y = y.reshape(1, y.size) # 원 핫 인코딩\n",
    "        y_hat = y_hat.reshape(1, y_hat.size)\n",
    "        \n",
    "    if y.size == y_hat.size: # 원 핫 인코딩일 때\n",
    "        y_hat = y_hat.argmax(axis=1)\n",
    "        \n",
    "    batch_size = y.shape[0]\n",
    "    return -np.sum(np.log(y[np.arange(batch_size), y_hat] + 1e-7)) / batch_size"
   ]
  },
  {
   "cell_type": "code",
   "execution_count": 4,
   "id": "13e0a5c7",
   "metadata": {},
   "outputs": [],
   "source": [
    "# Affine층 정의\n",
    "\n",
    "class Affine:\n",
    "    def __init__(self, W, b):\n",
    "        self.W = W\n",
    "        self.b = b\n",
    "        \n",
    "        self.x = None\n",
    "        self.original_x_shape = None\n",
    "        \n",
    "        # 가중치와 편향 매개변수의 미분\n",
    "        self.dW = None\n",
    "        self.db = None\n",
    "    \n",
    "    def forward(self, x):\n",
    "        # 텐서 변환\n",
    "        self.original_x_shape = x.shape\n",
    "        self.x = x.reshape(x.shape[0], -1)\n",
    "        \n",
    "        out = np.dot(self.x, self.W) + self.b\n",
    "        return out\n",
    "    \n",
    "    def backward(self, dout):\n",
    "        # 계산 그래프 이용하여 미분식 수립\n",
    "        dx = np.dot(dout, self.W.T)\n",
    "        self.dW = np.dot(self.x.T, dout)\n",
    "        self.db = np.sum(dout, axis=0)\n",
    "        \n",
    "        dx = dx.reshape(*self.original_x_shape)\n",
    "        return dx\n",
    "    \n",
    "\n",
    "class SoftmaxWithLoss:\n",
    "    def __init__(self):\n",
    "        self.loss = None # 손실함수\n",
    "        self.y = None # softmax의 출력\n",
    "        self.t = None # 정답 레이블(원 핫 인코딩 형태)\n",
    "        \n",
    "    def forward(self, x, t):\n",
    "        self.t = t\n",
    "        self.y = softmax(x)\n",
    "        self.loss = cross_entropy_error(self.y, self.t)\n",
    "        return self.loss\n",
    "    \n",
    "    def backward(self, dout=1): # 역전파 처음 들어오는 미분값은 1로 지정\n",
    "        batch_size = self.t.shape[0]\n",
    "        \n",
    "        if self.t.size == self.y.size: # 원 핫 인코딩 형태가 동일하면\n",
    "            dx = (self.y - self.t) / batch_size\n",
    "        else:\n",
    "            dx = self.y.copy()\n",
    "            dx[np.arange(batch_size), self.t] -= 1\n",
    "            dx = dx / batch_size\n",
    "        return dx\n",
    "            "
   ]
  },
  {
   "cell_type": "code",
   "execution_count": 5,
   "id": "3db34f76",
   "metadata": {},
   "outputs": [],
   "source": [
    "# 기울기(미분) 업데이트 정의\n",
    "\n",
    "def numerical_gradient(f, x):\n",
    "    h = 1e-4 # 0.0001\n",
    "    grad = np.zeros_like(x) # 미분에 대한 자리 먼저 형성\n",
    "    \n",
    "    it = np.nditer(x, flags=['multi_index'], op_flags=['readwrite'])\n",
    "    while not it.finished:\n",
    "        idx = it.multi_index\n",
    "        tmp_val = x[idx]\n",
    "        x[idx] = float(tmp_val) + h\n",
    "        fxh1 = f(x) # f(x+h)\n",
    "        \n",
    "        x[idx] = tmp_val - h\n",
    "        fxh2 = f(x) # f(x-h)\n",
    "        \n",
    "        grad[idx] = (fxh1 - fxh2) / (2*h) # 미분 구하기\n",
    "        x[idx] = tmp_val # 값 복원\n",
    "        \n",
    "        it.iternext()\n",
    "    return grad"
   ]
  },
  {
   "cell_type": "code",
   "execution_count": 6,
   "id": "cc95735e",
   "metadata": {},
   "outputs": [],
   "source": [
    "# DNN 구조 설계\n",
    "class Custom_TwoLayerNet:\n",
    "    def __init__(self, input_size, hidden_size, output_size, weight_init_std=0.01):\n",
    "        # 가중치 초기화\n",
    "        self.params = {}\n",
    "        self.params['W1'] = weight_init_std * np.random.randn(input_size, hidden_size)\n",
    "        self.params['b1'] = np.zeros(hidden_size)\n",
    "        self.params['W2'] = weight_init_std * np.random.randn(hidden_size, output_size)\n",
    "        self.params['b2'] = np.zeros(output_size)\n",
    "        \n",
    "        # 계층 생성\n",
    "        self.layers = {}\n",
    "        self.layers['Affine1'] = Affine(self.params['W1'], self.params['b1'])\n",
    "        self.layers['Relu1'] = Relu()\n",
    "        self.layers['Affine2'] = Affine(self.params['W2'], self.params['b2'])\n",
    "        \n",
    "        # 마지막 계층\n",
    "        self.lastLayer = SoftmaxWithLoss()\n",
    "      \n",
    "    # 예측\n",
    "    def predict(self, x):\n",
    "        for layer in self.layers.values():\n",
    "            x = layer.forward(x)\n",
    "        return x\n",
    "    \n",
    "    # x: 입력 데이터, t: 정답 레이블, y: 예측 레이블\n",
    "    def loss(self, x, t):\n",
    "        y_hat = self.predict(x)\n",
    "        return self.lastLayer.forward(y_hat, t)\n",
    "    \n",
    "    def accuracy(self, x, t):\n",
    "        y = self.predict(x)\n",
    "        y = np.argmax(y, axis=1)\n",
    "        if t.ndim != 1: t = np.argmax(t, axis=1)\n",
    "        \n",
    "        accuracy = np.sum(y==t) / float(x.shape[0])\n",
    "        return accuracy\n",
    "    \n",
    "    # 수치미분\n",
    "    def numerical_gradient(self, x, t): # x: 입력 데이터, t: 정답 레이블\n",
    "        loss_W = lambda W: self.loss(x, t)\n",
    "        \n",
    "        grads = {}\n",
    "        grads['W1'] = numerical_gradient(loss_W, self.params['W1'])\n",
    "        grads['b1'] = numerical_gradient(loss_W, self.params['b1'])\n",
    "        grads['W2'] = numerical_gradient(loss_W, self.params['W2'])\n",
    "        grads['b2'] = numerical_gradient(loss_W, self.params['b2'])\n",
    "        \n",
    "        return grads\n",
    "    \n",
    "    # 역전파\n",
    "    def gradient(self, x, t):\n",
    "        # forward\n",
    "        self.loss(x, t)\n",
    "        \n",
    "        # backward\n",
    "        dout = 1\n",
    "        dout = self.lastLayer.backward(dout)\n",
    "        \n",
    "        layers = list(self.layers.values())\n",
    "        layers.reverse() # 역전파는 뒤어서부터 계산되니 순서를 역으로\n",
    "        for layer in layers:\n",
    "            dout = layer.backward(dout)\n",
    "        \n",
    "        # 결과 저장\n",
    "        grads = {}\n",
    "        grads['W1'], grads['b1'] = self.layers['Affine1'].dW, self.layers['Affine1'].db \n",
    "        grads['W2'], grads['b2'] = self.layers['Affine2'].dW, self.layers['Affine2'].db\n",
    "        \n",
    "        return grads"
   ]
  },
  {
   "cell_type": "markdown",
   "id": "51cb59f0",
   "metadata": {},
   "source": [
    "---"
   ]
  },
  {
   "cell_type": "markdown",
   "id": "0b76349e",
   "metadata": {},
   "source": [
    "### 메인 코드"
   ]
  },
  {
   "cell_type": "code",
   "execution_count": 7,
   "id": "d6d782b6",
   "metadata": {},
   "outputs": [
    {
     "name": "stdout",
     "output_type": "stream",
     "text": [
      "(70000, 784) (70000,)\n"
     ]
    }
   ],
   "source": [
    "# 데이터 수집\n",
    "mnist = fetch_openml('mnist_784')\n",
    "x, y = mnist.data, mnist.target\n",
    "print(x.shape, y.shape)"
   ]
  },
  {
   "cell_type": "code",
   "execution_count": 8,
   "id": "a6b10998",
   "metadata": {},
   "outputs": [
    {
     "name": "stdout",
     "output_type": "stream",
     "text": [
      "(60000, 784) (60000, 10) (10000, 784) (10000, 10)\n"
     ]
    }
   ],
   "source": [
    "# 학습 및 검증 데이터 준비\n",
    "y = pd.get_dummies(y) # 원 핫 인코딩 형태로 변환\n",
    "\n",
    "x_train, y_train = np.array(x[:60000]), np.array(y[:60000])\n",
    "x_test, y_test = np.array(x[60000:]), np.array(y[60000:])\n",
    "\n",
    "print(x_train.shape, y_train.shape, x_test.shape, y_test.shape)"
   ]
  },
  {
   "cell_type": "code",
   "execution_count": 9,
   "id": "8c2d7233",
   "metadata": {},
   "outputs": [],
   "source": [
    "# 모델 생성\n",
    "network = Custom_TwoLayerNet(input_size=x_train.shape[1], hidden_size=50, output_size=y_train.shape[1])"
   ]
  },
  {
   "cell_type": "code",
   "execution_count": 10,
   "id": "0edeed08",
   "metadata": {},
   "outputs": [],
   "source": [
    "# 하이퍼 파라미터 지정\n",
    "iters_num = 10000\n",
    "train_size = x_train.shape[0]\n",
    "batch_size = 100\n",
    "learning_rate = 0.1\n",
    "\n",
    "train_loss_list = []\n",
    "train_acc_list = []\n",
    "test_acc_list = []\n",
    "\n",
    "iter_per_epoch = max(train_size / batch_size, 1)"
   ]
  },
  {
   "cell_type": "code",
   "execution_count": 11,
   "id": "177a0401",
   "metadata": {},
   "outputs": [
    {
     "name": "stdout",
     "output_type": "stream",
     "text": [
      "train_acc:0.09966666666666667, test_acc:0.1016\n",
      "train_acc:0.11236666666666667, test_acc:0.1135\n",
      "train_acc:0.11236666666666667, test_acc:0.1135\n",
      "train_acc:0.11236666666666667, test_acc:0.1135\n",
      "train_acc:0.11236666666666667, test_acc:0.1135\n",
      "train_acc:0.11236666666666667, test_acc:0.1135\n",
      "train_acc:0.11236666666666667, test_acc:0.1135\n",
      "train_acc:0.11236666666666667, test_acc:0.1135\n",
      "train_acc:0.11236666666666667, test_acc:0.1135\n",
      "train_acc:0.11236666666666667, test_acc:0.1135\n",
      "train_acc:0.10218333333333333, test_acc:0.101\n",
      "train_acc:0.11236666666666667, test_acc:0.1135\n",
      "train_acc:0.11236666666666667, test_acc:0.1135\n",
      "train_acc:0.11236666666666667, test_acc:0.1135\n",
      "train_acc:0.11236666666666667, test_acc:0.1135\n",
      "train_acc:0.11236666666666667, test_acc:0.1135\n",
      "train_acc:0.11236666666666667, test_acc:0.1135\n",
      "complete...\n"
     ]
    }
   ],
   "source": [
    "# 학습 진행\n",
    "for i in range(iters_num):\n",
    "    \n",
    "    # batch size만큼 뽑기\n",
    "    batch_mask = np.random.choice(train_size, batch_size)\n",
    "    x_batch = x_train[batch_mask]\n",
    "    y_batch = y_train[batch_mask]\n",
    "    \n",
    "    # 기울기 계산\n",
    "    grad = network.gradient(x_batch, y_batch) # 오차역전법 방식(수치미분보다 훨씬 빠르다.)\n",
    "    \n",
    "    # 갱신\n",
    "    for key in ('W1', 'b1', 'W2', 'b2'):\n",
    "        network.params[key] -= learning_rate * grad[key]\n",
    "    \n",
    "    \n",
    "    # 학습 현황(loss, accuracy) 저장\n",
    "    loss = network.loss(x_batch, y_batch)\n",
    "    train_loss_list.append(loss)\n",
    "    \n",
    "    if i % iter_per_epoch == 0:\n",
    "        train_acc = network.accuracy(x_train, y_train)\n",
    "        test_acc = network.accuracy(x_test, y_test)\n",
    "        train_acc_list.append(train_acc)\n",
    "        test_acc_list.append(test_acc)\n",
    "        print(f'train_acc:{train_acc}, test_acc:{test_acc}')\n",
    "\n",
    "print('complete...')"
   ]
  },
  {
   "cell_type": "code",
   "execution_count": 12,
   "id": "51e7763d",
   "metadata": {},
   "outputs": [
    {
     "data": {
      "text/plain": [
       "Text(0.5, 1.0, 'test_acc')"
      ]
     },
     "execution_count": 12,
     "metadata": {},
     "output_type": "execute_result"
    },
    {
     "data": {
      "image/png": "[encoded data removed]",
      "text/plain": [
       "<Figure size 1080x288 with 3 Axes>"
      ]
     },
     "metadata": {
      "needs_background": "light"
     },
     "output_type": "display_data"
    }
   ],
   "source": [
    "# 그래프로 학습 결과 확인\n",
    "plt.figure(figsize=(15, 4))\n",
    "\n",
    "plt.subplot(1, 3, 1)\n",
    "plt.plot(train_loss_list)\n",
    "plt.title('loss')\n",
    "\n",
    "plt.subplot(1, 3, 2)\n",
    "plt.plot(train_acc_list)\n",
    "plt.title('train_acc')\n",
    "\n",
    "plt.subplot(1, 3, 3)\n",
    "plt.plot(test_acc_list)\n",
    "plt.title('test_acc')"
   ]
  },
  {
   "cell_type": "code",
   "execution_count": null,
   "id": "29eb4198",
   "metadata": {},
   "outputs": [],
   "source": []
  }
 ],
 "metadata": {
  "kernelspec": {
   "display_name": "Python 3 (ipykernel)",
   "language": "python",
   "name": "python3"
  },
  "language_info": {
   "codemirror_mode": {
    "name": "ipython",
    "version": 3
   },
   "file_extension": ".py",
   "mimetype": "text/x-python",
   "name": "python",
   "nbconvert_exporter": "python",
   "pygments_lexer": "ipython3",
   "version": "3.9.12"
  }
 },
 "nbformat": 4,
 "nbformat_minor": 5
}
