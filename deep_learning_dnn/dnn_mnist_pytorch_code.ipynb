{
  "cells": [
    {
      "cell_type": "markdown",
      "id": "4f8232be",
      "metadata": {
        "id": "4f8232be"
      },
      "source": [
        "### 라이브러리"
      ]
    },
    {
      "cell_type": "code",
      "execution_count": 1,
      "id": "58361077",
      "metadata": {
        "id": "58361077"
      },
      "outputs": [],
      "source": [
        "import numpy as np\n",
        "import pandas as pd\n",
        "import matplotlib.pyplot as plt\n",
        "import warnings\n",
        "warnings.filterwarnings('ignore')\n",
        "\n",
        "from sklearn.datasets import fetch_openml"
      ]
    },
    {
      "cell_type": "code",
      "execution_count": 2,
      "id": "73d2bd87",
      "metadata": {
        "colab": {
          "base_uri": "https://localhost:8080/"
        },
        "id": "73d2bd87",
        "outputId": "7254cb07-537b-4555-cd77-cc1273be0d04"
      },
      "outputs": [
        {
          "output_type": "stream",
          "name": "stdout",
          "text": [
            "gpu device: cpu\n",
            "torch.__version__: 2.0.1+cu118\n"
          ]
        }
      ],
      "source": [
        "# pytorch 라이브러리\n",
        "import torch\n",
        "import torch.nn as nn\n",
        "import torch.nn.functional as F\n",
        "import torch.optim as optim\n",
        "from torchvision import transforms\n",
        "from torch.utils.data import Dataset, DataLoader\n",
        "\n",
        "# gpu 사용 (mac m1은 mps)\n",
        "device = torch.device(\"cuda\") if torch.cuda.is_available() else \"cpu\"\n",
        "print(f\"gpu device: {device}\")\n",
        "print(\"torch.__version__:\", torch.__version__)"
      ]
    },
    {
      "cell_type": "markdown",
      "id": "0dc2cfdd",
      "metadata": {
        "id": "0dc2cfdd"
      },
      "source": [
        "### 함수 정의"
      ]
    },
    {
      "cell_type": "code",
      "execution_count": 3,
      "id": "275b49e0",
      "metadata": {
        "id": "275b49e0"
      },
      "outputs": [],
      "source": [
        "# 데이터 전처리\n",
        "class custom_Dataset(Dataset):\n",
        "    def __init__(self, image, label):\n",
        "        self.image = image\n",
        "        self.label = label\n",
        "\n",
        "    def __len__(self):\n",
        "        return len(self.label)\n",
        "\n",
        "    def __getitem__(self, idx):\n",
        "        x = self.image[idx]\n",
        "        y = self.label[idx]\n",
        "\n",
        "        return x, y"
      ]
    },
    {
      "cell_type": "code",
      "execution_count": 4,
      "id": "4dbcec04",
      "metadata": {
        "id": "4dbcec04"
      },
      "outputs": [],
      "source": [
        "# 모델 정의\n",
        "class custom_TwoLayerNet(nn.Module):\n",
        "    def __init__(self, input_size, hidden_size, output_size):\n",
        "        super(custom_TwoLayerNet, self).__init__()\n",
        "\n",
        "        self.fc1 = nn.Linear(input_size, hidden_size)\n",
        "        self.fc2 = nn.Linear(hidden_size, output_size)\n",
        "\n",
        "    def forward(self, x):\n",
        "        x = F.relu(self.fc1(x))\n",
        "        out = self.fc2(x)\n",
        "        return out"
      ]
    },
    {
      "cell_type": "markdown",
      "id": "2fd87822",
      "metadata": {
        "id": "2fd87822"
      },
      "source": [
        "### 메인 코드"
      ]
    },
    {
      "cell_type": "code",
      "execution_count": 6,
      "id": "e928706d",
      "metadata": {
        "scrolled": true,
        "colab": {
          "base_uri": "https://localhost:8080/"
        },
        "id": "e928706d",
        "outputId": "5f3b0f63-75ed-42ac-d7d4-249b176a668b"
      },
      "outputs": [
        {
          "output_type": "stream",
          "name": "stdout",
          "text": [
            "(70000, 784) (70000,)\n"
          ]
        }
      ],
      "source": [
        "# 데이터 수집\n",
        "mnist = fetch_openml('mnist_784')\n",
        "x_all, y_all = mnist.data, mnist.target\n",
        "print(x_all.shape, y_all.shape)"
      ]
    },
    {
      "cell_type": "code",
      "execution_count": 15,
      "id": "beff9b66",
      "metadata": {
        "colab": {
          "base_uri": "https://localhost:8080/"
        },
        "id": "beff9b66",
        "outputId": "087a77aa-257e-4ec9-edb4-07476ddf2e77"
      },
      "outputs": [
        {
          "output_type": "stream",
          "name": "stdout",
          "text": [
            "torch.Size([60000, 784]) torch.Size([60000, 10]) torch.Size([10000, 784]) torch.Size([10000, 10])\n"
          ]
        }
      ],
      "source": [
        "# 학습 및 검증 데이터 준비\n",
        "y = pd.get_dummies(y_all) # 원 핫 인코딩 형태로 변환\n",
        "x = x_all / 255. # 0에서 1로 정규화\n",
        "\n",
        "x, y = torch.Tensor(np.array(x, dtype='float32')), torch.Tensor(np.array(y, dtype='float32'))\n",
        "\n",
        "x_train, y_train = x[:60000], y[:60000]\n",
        "x_test, y_test = x[60000:], y[60000:]\n",
        "\n",
        "print(x_train.shape, y_train.shape, x_test.shape, y_test.shape)"
      ]
    },
    {
      "cell_type": "code",
      "execution_count": 16,
      "id": "f0c1c762",
      "metadata": {
        "id": "f0c1c762"
      },
      "outputs": [],
      "source": [
        "# 학습 및 검증 데이터 준비 (Pytorch)\n",
        "batch_size = 32\n",
        "\n",
        "train_dataset = custom_Dataset(x_train, y_train)\n",
        "test_dataset = custom_Dataset(x_test, y_test)\n",
        "train_loader = DataLoader(train_dataset, batch_size=batch_size)\n",
        "test_loader = DataLoader(test_dataset, batch_size=batch_size)"
      ]
    },
    {
      "cell_type": "code",
      "source": [
        "a = next(iter(train_loader))"
      ],
      "metadata": {
        "id": "L-aZyPEjhd1D"
      },
      "id": "L-aZyPEjhd1D",
      "execution_count": 17,
      "outputs": []
    },
    {
      "cell_type": "code",
      "execution_count": 18,
      "id": "8f3609e1",
      "metadata": {
        "id": "8f3609e1"
      },
      "outputs": [],
      "source": [
        "# 모델, 손실함수, 최적화 방법 정의\n",
        "model = custom_TwoLayerNet(input_size=x_train.shape[1], hidden_size=50, output_size=y_train.shape[1]).to(device)\n",
        "criterion = nn.CrossEntropyLoss().to(device)\n",
        "optimizer = torch.optim.Adam(model.parameters(), lr=0.01)"
      ]
    },
    {
      "cell_type": "code",
      "execution_count": 35,
      "id": "72a1f3cc",
      "metadata": {
        "id": "72a1f3cc"
      },
      "outputs": [],
      "source": [
        "# 하이퍼 파라미터 지정\n",
        "epochs = 10\n",
        "\n",
        "train_loss_list = []\n",
        "train_acc_list = []"
      ]
    },
    {
      "cell_type": "code",
      "execution_count": 37,
      "id": "09d3b06b",
      "metadata": {
        "colab": {
          "base_uri": "https://localhost:8080/"
        },
        "id": "09d3b06b",
        "outputId": "5b13a579-d1d9-476b-a195-9f967d30abf6"
      },
      "outputs": [
        {
          "output_type": "stream",
          "name": "stdout",
          "text": [
            "epocs: 1, loss: 0.08566725999116898, train_acc: 0.9813500046730042\n",
            "epocs: 2, loss: 0.072810098528862, train_acc: 0.9835500121116638\n",
            "epocs: 3, loss: 0.07923144847154617, train_acc: 0.9826333522796631\n",
            "epocs: 4, loss: 0.08051019161939621, train_acc: 0.9827166795730591\n",
            "epocs: 5, loss: 0.07776031643152237, train_acc: 0.983299970626831\n",
            "epocs: 6, loss: 0.07418128103017807, train_acc: 0.9840333461761475\n",
            "epocs: 7, loss: 0.08176115900278091, train_acc: 0.9836166501045227\n",
            "epocs: 8, loss: 0.07722781598567963, train_acc: 0.9840999841690063\n",
            "epocs: 9, loss: 0.06561639904975891, train_acc: 0.9850999712944031\n",
            "epocs: 10, loss: 0.07991518825292587, train_acc: 0.98416668176651\n",
            "----------------------------------------------------------------------------------------------------\n",
            "test_acc: 0.9586661458015442\n"
          ]
        }
      ],
      "source": [
        "# 학습 진행\n",
        "\n",
        "# train\n",
        "model.train()\n",
        "for epoch in range(epochs):\n",
        "    avg_loss = 0\n",
        "    avg_acc = 0\n",
        "    for data in train_loader:\n",
        "        images = data[0].to(device)\n",
        "        labels = data[1].to(device)\n",
        "\n",
        "        optimizer.zero_grad() # 모델의 초기 gradient를 0으로 설정\n",
        "        y_hat = model(images) # 모델의 forward를 통해 예측\n",
        "\n",
        "        loss = criterion(y_hat, labels) # 자체적으로 softmax를 취하고 난 후 손실함수를 계산함\n",
        "        loss.backward() # 손실함수에 대한 역전파 준비\n",
        "        optimizer.step() # 가중치 업데이트\n",
        "\n",
        "        avg_loss += loss\n",
        "        avg_acc += sum(y_hat.max(axis=1).indices == labels.max(axis=1).indices)\n",
        "\n",
        "    avg_loss = avg_loss / len(train_loader)\n",
        "    avg_acc = avg_acc / (len(train_loader) * batch_size)\n",
        "\n",
        "    train_loss_list.append(avg_loss.item())\n",
        "    train_acc_list.append(avg_acc.item())\n",
        "\n",
        "    print(f'epocs: {epoch+1}, loss: {avg_loss}, train_acc: {avg_acc}')\n",
        "\n",
        "print('-'*100)\n",
        "# test\n",
        "model.eval()\n",
        "with torch.no_grad():\n",
        "    avg_acc_test = 0\n",
        "    for data in test_loader:\n",
        "        images = data[0].to(device)\n",
        "        labels = data[1].to(device)\n",
        "\n",
        "        pred = model(images)\n",
        "        loss = criterion(pred, labels)\n",
        "\n",
        "        avg_acc_test += sum(pred.max(axis=1).indices == labels.max(axis=1).indices)\n",
        "\n",
        "    avg_acc_test = avg_acc_test / (len(test_loader) * batch_size)\n",
        "    print(f'test_acc: {avg_acc_test}')"
      ]
    }
  ],
  "metadata": {
    "kernelspec": {
      "display_name": "torch",
      "language": "python",
      "name": "torch"
    },
    "language_info": {
      "codemirror_mode": {
        "name": "ipython",
        "version": 3
      },
      "file_extension": ".py",
      "mimetype": "text/x-python",
      "name": "python",
      "nbconvert_exporter": "python",
      "pygments_lexer": "ipython3",
      "version": "3.10.9"
    },
    "colab": {
      "provenance": []
    }
  },
  "nbformat": 4,
  "nbformat_minor": 5
}